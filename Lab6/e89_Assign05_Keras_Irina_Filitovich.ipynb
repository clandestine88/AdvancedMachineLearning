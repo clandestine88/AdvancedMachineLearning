{
 "cells": [
  {
   "cell_type": "markdown",
   "metadata": {},
   "source": [
    "### HU Extension                  Assignment 05          E89 Deep Learning"
   ]
  },
  {
   "cell_type": "markdown",
   "metadata": {},
   "source": [
    "**Problem 1.** Consider Jupyter Notebook 3.6-classifying-newswires.ipynb analyzing classification of Reuters newswires into 46 classes. Consider the model used in the notebook.\n",
    "\n",
    "Determine the optimal number of epochs by training the model with one training set of 7982 samples and one validation set of 1000 samples.\n",
    "Determine the accuracy of the model when trained with such optimal number of epochs.\n",
    "(35%)"
   ]
  },
  {
   "cell_type": "markdown",
   "metadata": {},
   "source": [
    "**Solution:**\n",
    "\n",
    "Running cells from the provided *3.6-classifying-newswires.ipynb* notebook."
   ]
  },
  {
   "cell_type": "code",
   "execution_count": 4,
   "metadata": {
    "scrolled": true
   },
   "outputs": [
    {
     "name": "stderr",
     "output_type": "stream",
     "text": [
      "C:\\Anaconda3\\lib\\site-packages\\h5py\\__init__.py:34: FutureWarning: Conversion of the second argument of issubdtype from `float` to `np.floating` is deprecated. In future, it will be treated as `np.float64 == np.dtype(float).type`.\n",
      "  from ._conv import register_converters as _register_converters\n",
      "Using TensorFlow backend.\n"
     ]
    },
    {
     "data": {
      "text/plain": [
       "'2.1.4'"
      ]
     },
     "execution_count": 4,
     "metadata": {},
     "output_type": "execute_result"
    }
   ],
   "source": [
    "import keras\n",
    "keras.__version__"
   ]
  },
  {
   "cell_type": "markdown",
   "metadata": {},
   "source": [
    "# Classifying newswires: a multi-class classification example\n",
    "\n",
    "This notebook contains the code samples found in Chapter 3, Section 5 of [Deep Learning with Python](https://www.manning.com/books/deep-learning-with-python?a_aid=keras&a_bid=76564dff). Note that the original text features far more content, in particular further explanations and figures: in this notebook, you will only find source code and related comments.\n",
    "\n",
    "----\n",
    "\n",
    "In the previous section we saw how to classify vector inputs into two mutually exclusive classes using a densely-connected neural network. \n",
    "But what happens when you have more than two classes? \n",
    "\n",
    "In this section, we will build a network to classify Reuters newswires into 46 different mutually-exclusive topics. Since we have many \n",
    "classes, this problem is an instance of \"multi-class classification\", and since each data point should be classified into only one \n",
    "category, the problem is more specifically an instance of \"single-label, multi-class classification\". If each data point could have \n",
    "belonged to multiple categories (in our case, topics) then we would be facing a \"multi-label, multi-class classification\" problem."
   ]
  },
  {
   "cell_type": "markdown",
   "metadata": {},
   "source": [
    "## The Reuters dataset\n",
    "\n",
    "\n",
    "We will be working with the _Reuters dataset_, a set of short newswires and their topics, published by Reuters in 1986. It's a very simple, \n",
    "widely used toy dataset for text classification. There are 46 different topics; some topics are more represented than others, but each \n",
    "topic has at least 10 examples in the training set.\n",
    "\n",
    "Like IMDB and MNIST, the Reuters dataset comes packaged as part of Keras. Let's take a look right away:"
   ]
  },
  {
   "cell_type": "code",
   "execution_count": 5,
   "metadata": {
    "collapsed": true
   },
   "outputs": [],
   "source": [
    "from keras.datasets import reuters\n",
    "(train_data, train_labels), (test_data, test_labels) = reuters.load_data(num_words=10000)"
   ]
  },
  {
   "cell_type": "markdown",
   "metadata": {},
   "source": [
    "\n",
    "Like with the IMDB dataset, the argument `num_words=10000` restricts the data to the 10,000 most frequently occurring words found in the \n",
    "data.\n",
    "\n",
    "We have 8,982 training examples and 2,246 test examples:"
   ]
  },
  {
   "cell_type": "code",
   "execution_count": 6,
   "metadata": {},
   "outputs": [
    {
     "data": {
      "text/plain": [
       "8982"
      ]
     },
     "execution_count": 6,
     "metadata": {},
     "output_type": "execute_result"
    }
   ],
   "source": [
    "len(train_data)"
   ]
  },
  {
   "cell_type": "code",
   "execution_count": 8,
   "metadata": {},
   "outputs": [
    {
     "data": {
      "text/plain": [
       "2246"
      ]
     },
     "execution_count": 8,
     "metadata": {},
     "output_type": "execute_result"
    }
   ],
   "source": [
    "len(test_data)"
   ]
  },
  {
   "cell_type": "code",
   "execution_count": 24,
   "metadata": {},
   "outputs": [
    {
     "data": {
      "text/plain": [
       "8982"
      ]
     },
     "execution_count": 24,
     "metadata": {},
     "output_type": "execute_result"
    }
   ],
   "source": [
    "len(train_labels)"
   ]
  },
  {
   "cell_type": "code",
   "execution_count": 9,
   "metadata": {},
   "outputs": [
    {
     "data": {
      "text/plain": [
       "2246"
      ]
     },
     "execution_count": 9,
     "metadata": {},
     "output_type": "execute_result"
    }
   ],
   "source": [
    "len(test_labels)"
   ]
  },
  {
   "cell_type": "markdown",
   "metadata": {},
   "source": [
    "As with the IMDB reviews, each example is a list of integers (word indices):"
   ]
  },
  {
   "cell_type": "code",
   "execution_count": 10,
   "metadata": {},
   "outputs": [
    {
     "data": {
      "text/plain": [
       "[1,\n",
       " 245,\n",
       " 273,\n",
       " 207,\n",
       " 156,\n",
       " 53,\n",
       " 74,\n",
       " 160,\n",
       " 26,\n",
       " 14,\n",
       " 46,\n",
       " 296,\n",
       " 26,\n",
       " 39,\n",
       " 74,\n",
       " 2979,\n",
       " 3554,\n",
       " 14,\n",
       " 46,\n",
       " 4689,\n",
       " 4329,\n",
       " 86,\n",
       " 61,\n",
       " 3499,\n",
       " 4795,\n",
       " 14,\n",
       " 61,\n",
       " 451,\n",
       " 4329,\n",
       " 17,\n",
       " 12]"
      ]
     },
     "execution_count": 10,
     "metadata": {},
     "output_type": "execute_result"
    }
   ],
   "source": [
    "train_data[10]"
   ]
  },
  {
   "cell_type": "markdown",
   "metadata": {},
   "source": [
    "Here's how you can decode it back to words, in case you are curious:"
   ]
  },
  {
   "cell_type": "code",
   "execution_count": 11,
   "metadata": {
    "collapsed": true
   },
   "outputs": [],
   "source": [
    "word_index = reuters.get_word_index()\n",
    "reverse_word_index = dict([(value, key) for (key, value) in word_index.items()])\n",
    "\n",
    "# Note that our indices were offset by 3\n",
    "# because 0, 1 and 2 are reserved indices for \"padding\", \"start of sequence\", and \"unknown\".\n",
    "decoded_newswire = ' '.join([reverse_word_index.get(i-3, '?') for i in train_data[10]])"
   ]
  },
  {
   "cell_type": "code",
   "execution_count": 12,
   "metadata": {},
   "outputs": [
    {
     "data": {
      "text/plain": [
       "'? period ended december 31 shr profit 11 cts vs loss 24 cts net profit 224 271 vs loss 511 349 revs 7 258 688 vs 7 200 349 reuter 3'"
      ]
     },
     "execution_count": 12,
     "metadata": {},
     "output_type": "execute_result"
    }
   ],
   "source": [
    "decoded_newswire"
   ]
  },
  {
   "cell_type": "markdown",
   "metadata": {},
   "source": [
    "The label associated with an example is an integer between 0 and 45: a topic index."
   ]
  },
  {
   "cell_type": "code",
   "execution_count": 13,
   "metadata": {},
   "outputs": [
    {
     "data": {
      "text/plain": [
       "3"
      ]
     },
     "execution_count": 13,
     "metadata": {},
     "output_type": "execute_result"
    }
   ],
   "source": [
    "train_labels[10]"
   ]
  },
  {
   "cell_type": "markdown",
   "metadata": {},
   "source": [
    "## Preparing the data\n",
    "\n",
    "We can vectorize the data with the exact same code as in our previous example:"
   ]
  },
  {
   "cell_type": "code",
   "execution_count": 14,
   "metadata": {},
   "outputs": [],
   "source": [
    "import numpy as np\n",
    "\n",
    "def vectorize_sequences(sequences, dimension=10000):\n",
    "    results = np.zeros((len(sequences), dimension))\n",
    "    for i, sequence in enumerate(sequences):\n",
    "        results[i, sequence] = 1.\n",
    "    return results\n",
    "\n",
    "# Our vectorized training data\n",
    "x_train = vectorize_sequences(train_data)\n",
    "\n",
    "# Our vectorized test data\n",
    "x_test = vectorize_sequences(test_data)"
   ]
  },
  {
   "cell_type": "markdown",
   "metadata": {},
   "source": [
    "\n",
    "To vectorize the labels, there are two possibilities: we could just cast the label list as an integer tensor, or we could use a \"one-hot\" \n",
    "encoding. One-hot encoding is a widely used format for categorical data, also called \"categorical encoding\". \n",
    "For a more detailed explanation of one-hot encoding, you can refer to Chapter 6, Section 1. \n",
    "In our case, one-hot encoding of our labels consists in embedding each label as an all-zero vector with a 1 in the place of the label index, e.g.:"
   ]
  },
  {
   "cell_type": "code",
   "execution_count": 15,
   "metadata": {
    "collapsed": true
   },
   "outputs": [],
   "source": [
    "def to_one_hot(labels, dimension=46):\n",
    "    results = np.zeros((len(labels), dimension))\n",
    "    for i, label in enumerate(labels):\n",
    "        results[i, label] = 1.\n",
    "    return results\n",
    "\n",
    "# Our vectorized training labels\n",
    "one_hot_train_labels = to_one_hot(train_labels)\n",
    "# Our vectorized test labels\n",
    "one_hot_test_labels = to_one_hot(test_labels)"
   ]
  },
  {
   "cell_type": "markdown",
   "metadata": {},
   "source": [
    "Note that there is a built-in way to do this in Keras, which you have already seen in action in our MNIST example:"
   ]
  },
  {
   "cell_type": "code",
   "execution_count": 16,
   "metadata": {
    "collapsed": true
   },
   "outputs": [],
   "source": [
    "from keras.utils.np_utils import to_categorical\n",
    "\n",
    "one_hot_train_labels = to_categorical(train_labels)\n",
    "one_hot_test_labels = to_categorical(test_labels)"
   ]
  },
  {
   "cell_type": "markdown",
   "metadata": {},
   "source": [
    "## Building our network\n",
    "\n",
    "\n",
    "This topic classification problem looks very similar to our previous movie review classification problem: in both cases, we are trying to \n",
    "classify short snippets of text. There is however a new constraint here: the number of output classes has gone from 2 to 46, i.e. the \n",
    "dimensionality of the output space is much larger. \n",
    "\n",
    "In a stack of `Dense` layers like what we were using, each layer can only access information present in the output of the previous layer. \n",
    "If one layer drops some information relevant to the classification problem, this information can never be recovered by later layers: each \n",
    "layer can potentially become an \"information bottleneck\". In our previous example, we were using 16-dimensional intermediate layers, but a \n",
    "16-dimensional space may be too limited to learn to separate 46 different classes: such small layers may act as information bottlenecks, \n",
    "permanently dropping relevant information.\n",
    "\n",
    "For this reason we will use larger layers. Let's go with 64 units:"
   ]
  },
  {
   "cell_type": "code",
   "execution_count": 17,
   "metadata": {
    "collapsed": true
   },
   "outputs": [],
   "source": [
    "from keras import models\n",
    "from keras import layers\n",
    "\n",
    "model = models.Sequential()\n",
    "model.add(layers.Dense(64, activation='relu', input_shape=(10000,)))\n",
    "model.add(layers.Dense(64, activation='relu'))\n",
    "model.add(layers.Dense(46, activation='softmax'))"
   ]
  },
  {
   "cell_type": "markdown",
   "metadata": {},
   "source": [
    "\n",
    "There are two other things you should note about this architecture:\n",
    "\n",
    "* We are ending the network with a `Dense` layer of size 46. This means that for each input sample, our network will output a \n",
    "46-dimensional vector. Each entry in this vector (each dimension) will encode a different output class.\n",
    "* The last layer uses a `softmax` activation. You have already seen this pattern in the MNIST example. It means that the network will \n",
    "output a _probability distribution_ over the 46 different output classes, i.e. for every input sample, the network will produce a \n",
    "46-dimensional output vector where `output[i]` is the probability that the sample belongs to class `i`. The 46 scores will sum to 1.\n",
    "\n",
    "The best loss function to use in this case is `categorical_crossentropy`. It measures the distance between two probability distributions: \n",
    "in our case, between the probability distribution output by our network, and the true distribution of the labels. By minimizing the \n",
    "distance between these two distributions, we train our network to output something as close as possible to the true labels."
   ]
  },
  {
   "cell_type": "code",
   "execution_count": 18,
   "metadata": {
    "collapsed": true
   },
   "outputs": [],
   "source": [
    "model.compile(optimizer='rmsprop',\n",
    "              loss='categorical_crossentropy',\n",
    "              metrics=['accuracy'])"
   ]
  },
  {
   "cell_type": "markdown",
   "metadata": {},
   "source": [
    "## Validating our approach\n",
    "\n",
    "Let's set apart 1,000 samples in our training data to use as a validation set:"
   ]
  },
  {
   "cell_type": "code",
   "execution_count": 19,
   "metadata": {
    "collapsed": true
   },
   "outputs": [],
   "source": [
    "x_val = x_train[:1000]\n",
    "partial_x_train = x_train[1000:]\n",
    "\n",
    "y_val = one_hot_train_labels[:1000]\n",
    "partial_y_train = one_hot_train_labels[1000:]"
   ]
  },
  {
   "cell_type": "code",
   "execution_count": 20,
   "metadata": {},
   "outputs": [
    {
     "data": {
      "text/plain": [
       "(1000, 1000, 7982, 7982)"
      ]
     },
     "execution_count": 20,
     "metadata": {},
     "output_type": "execute_result"
    }
   ],
   "source": [
    "len(x_val), len(y_val), len(partial_x_train), len(partial_y_train)"
   ]
  },
  {
   "cell_type": "markdown",
   "metadata": {},
   "source": [
    "Now let's train our network for 20 epochs:"
   ]
  },
  {
   "cell_type": "code",
   "execution_count": 21,
   "metadata": {},
   "outputs": [
    {
     "name": "stdout",
     "output_type": "stream",
     "text": [
      "Train on 7982 samples, validate on 1000 samples\n",
      "Epoch 1/20\n",
      "7982/7982 [==============================] - 2s 218us/step - loss: 2.5322 - acc: 0.4955 - val_loss: 1.7208 - val_acc: 0.6120\n",
      "Epoch 2/20\n",
      "7982/7982 [==============================] - 1s 163us/step - loss: 1.4452 - acc: 0.6879 - val_loss: 1.3459 - val_acc: 0.7060\n",
      "Epoch 3/20\n",
      "7982/7982 [==============================] - 1s 161us/step - loss: 1.0953 - acc: 0.7651 - val_loss: 1.1708 - val_acc: 0.7430\n",
      "Epoch 4/20\n",
      "7982/7982 [==============================] - 1s 160us/step - loss: 0.8697 - acc: 0.8165 - val_loss: 1.0793 - val_acc: 0.7590\n",
      "Epoch 5/20\n",
      "7982/7982 [==============================] - 1s 156us/step - loss: 0.7034 - acc: 0.8472 - val_loss: 0.9844 - val_acc: 0.7810\n",
      "Epoch 6/20\n",
      "7982/7982 [==============================] - 1s 161us/step - loss: 0.5667 - acc: 0.8802 - val_loss: 0.9411 - val_acc: 0.8040\n",
      "Epoch 7/20\n",
      "7982/7982 [==============================] - 1s 159us/step - loss: 0.4581 - acc: 0.9048 - val_loss: 0.9083 - val_acc: 0.8020\n",
      "Epoch 8/20\n",
      "7982/7982 [==============================] - 1s 159us/step - loss: 0.3695 - acc: 0.9231 - val_loss: 0.9363 - val_acc: 0.7890\n",
      "Epoch 9/20\n",
      "7982/7982 [==============================] - 1s 160us/step - loss: 0.3032 - acc: 0.9315 - val_loss: 0.8917 - val_acc: 0.8090\n",
      "Epoch 10/20\n",
      "7982/7982 [==============================] - 1s 156us/step - loss: 0.2537 - acc: 0.9414 - val_loss: 0.9071 - val_acc: 0.8110\n",
      "Epoch 11/20\n",
      "7982/7982 [==============================] - 1s 161us/step - loss: 0.2187 - acc: 0.9471 - val_loss: 0.9177 - val_acc: 0.8130\n",
      "Epoch 12/20\n",
      "7982/7982 [==============================] - 1s 163us/step - loss: 0.1873 - acc: 0.9508 - val_loss: 0.9027 - val_acc: 0.8130\n",
      "Epoch 13/20\n",
      "7982/7982 [==============================] - 1s 163us/step - loss: 0.1703 - acc: 0.9521 - val_loss: 0.9323 - val_acc: 0.8110\n",
      "Epoch 14/20\n",
      "7982/7982 [==============================] - 1s 161us/step - loss: 0.1536 - acc: 0.9554 - val_loss: 0.9689 - val_acc: 0.8050\n",
      "Epoch 15/20\n",
      "7982/7982 [==============================] - 1s 160us/step - loss: 0.1390 - acc: 0.9560 - val_loss: 0.9686 - val_acc: 0.8150\n",
      "Epoch 16/20\n",
      "7982/7982 [==============================] - 1s 167us/step - loss: 0.1313 - acc: 0.9560 - val_loss: 1.0220 - val_acc: 0.8060\n",
      "Epoch 17/20\n",
      "7982/7982 [==============================] - 1s 160us/step - loss: 0.1217 - acc: 0.9579 - val_loss: 1.0254 - val_acc: 0.7970\n",
      "Epoch 18/20\n",
      "7982/7982 [==============================] - 1s 161us/step - loss: 0.1198 - acc: 0.9582 - val_loss: 1.0430 - val_acc: 0.8060\n",
      "Epoch 19/20\n",
      "7982/7982 [==============================] - 1s 157us/step - loss: 0.1138 - acc: 0.9597 - val_loss: 1.0955 - val_acc: 0.7970\n",
      "Epoch 20/20\n",
      "7982/7982 [==============================] - 1s 157us/step - loss: 0.1111 - acc: 0.9593 - val_loss: 1.0674 - val_acc: 0.8020\n"
     ]
    }
   ],
   "source": [
    "history = model.fit(partial_x_train,\n",
    "                    partial_y_train,\n",
    "                    epochs=20,\n",
    "                    batch_size=512,\n",
    "                    validation_data=(x_val, y_val))"
   ]
  },
  {
   "cell_type": "markdown",
   "metadata": {},
   "source": [
    "Let's display its loss and accuracy curves:"
   ]
  },
  {
   "cell_type": "code",
   "execution_count": 23,
   "metadata": {},
   "outputs": [
    {
     "data": {
      "image/png": "[encoded data removed]",
      "text/plain": [
       "<matplotlib.figure.Figure at 0x1b86c3b1080>"
      ]
     },
     "metadata": {},
     "output_type": "display_data"
    }
   ],
   "source": [
    "import matplotlib.pyplot as plt\n",
    "\n",
    "loss = history.history['loss']\n",
    "val_loss = history.history['val_loss']\n",
    "\n",
    "epochs = range(1, len(loss) + 1)\n",
    "\n",
    "plt.plot(epochs, loss, 'bo', label='Training loss')\n",
    "plt.plot(epochs, val_loss, 'b', label='Validation loss')\n",
    "plt.title('Training and validation loss')\n",
    "plt.xlabel('Epochs')\n",
    "plt.ylabel('Loss')\n",
    "plt.legend()\n",
    "\n",
    "plt.show()"
   ]
  },
  {
   "cell_type": "code",
   "execution_count": 47,
   "metadata": {},
   "outputs": [
    {
     "data": {
      "image/png": "[encoded data removed]",
      "text/plain": [
       "<matplotlib.figure.Figure at 0x1b3b2e79ac8>"
      ]
     },
     "metadata": {},
     "output_type": "display_data"
    }
   ],
   "source": [
    "plt.clf()   # clear figure\n",
    "\n",
    "acc = history.history['acc']\n",
    "val_acc = history.history['val_acc']\n",
    "\n",
    "plt.plot(epochs, acc, 'bo', label='Training acc')\n",
    "plt.plot(epochs, val_acc, 'b', label='Validation acc')\n",
    "plt.title('Training and validation accuracy')\n",
    "plt.xlabel('Epochs')\n",
    "plt.ylabel('Accuracy')\n",
    "plt.legend()\n",
    "\n",
    "plt.show()"
   ]
  },
  {
   "cell_type": "markdown",
   "metadata": {},
   "source": [
    "It seems that the network starts overfitting after 8 epochs. Let's train a new network from scratch for 8 epochs, then let's evaluate it on \n",
    "the test set:"
   ]
  },
  {
   "cell_type": "code",
   "execution_count": 24,
   "metadata": {},
   "outputs": [
    {
     "name": "stdout",
     "output_type": "stream",
     "text": [
      "Train on 7982 samples, validate on 1000 samples\n",
      "Epoch 1/8\n",
      "7982/7982 [==============================] - 2s 216us/step - loss: 2.5398 - acc: 0.5226 - val_loss: 1.6733 - val_acc: 0.6570\n",
      "Epoch 2/8\n",
      "7982/7982 [==============================] - 1s 161us/step - loss: 1.3712 - acc: 0.7121 - val_loss: 1.2758 - val_acc: 0.7210\n",
      "Epoch 3/8\n",
      "7982/7982 [==============================] - 1s 163us/step - loss: 1.0136 - acc: 0.7781 - val_loss: 1.1303 - val_acc: 0.7530\n",
      "Epoch 4/8\n",
      "7982/7982 [==============================] - 1s 159us/step - loss: 0.7976 - acc: 0.8251 - val_loss: 1.0539 - val_acc: 0.7590\n",
      "Epoch 5/8\n",
      "7982/7982 [==============================] - 1s 161us/step - loss: 0.6393 - acc: 0.8624 - val_loss: 0.9754 - val_acc: 0.7920\n",
      "Epoch 6/8\n",
      "7982/7982 [==============================] - 1s 161us/step - loss: 0.5124 - acc: 0.8923 - val_loss: 0.9102 - val_acc: 0.8140\n",
      "Epoch 7/8\n",
      "7982/7982 [==============================] - 1s 157us/step - loss: 0.4123 - acc: 0.9137 - val_loss: 0.8932 - val_acc: 0.8210\n",
      "Epoch 8/8\n",
      "7982/7982 [==============================] - 1s 161us/step - loss: 0.3354 - acc: 0.9288 - val_loss: 0.8732 - val_acc: 0.8260\n"
     ]
    }
   ],
   "source": [
    "model = models.Sequential()\n",
    "model.add(layers.Dense(64, activation='relu', input_shape=(10000,)))\n",
    "model.add(layers.Dense(64, activation='relu'))\n",
    "model.add(layers.Dense(46, activation='softmax'))\n",
    "\n",
    "model.compile(optimizer='rmsprop',\n",
    "              loss='categorical_crossentropy',\n",
    "              metrics=['accuracy'])\n",
    "model.fit(partial_x_train,\n",
    "          partial_y_train,\n",
    "          epochs=8,\n",
    "          batch_size=512,\n",
    "          validation_data=(x_val, y_val))\n",
    "results = model.evaluate(x_test, one_hot_test_labels, verbose = 0)"
   ]
  },
  {
   "cell_type": "code",
   "execution_count": 25,
   "metadata": {},
   "outputs": [
    {
     "data": {
      "text/plain": [
       "[0.9847470472035191, 0.7845057880676759]"
      ]
     },
     "execution_count": 25,
     "metadata": {},
     "output_type": "execute_result"
    }
   ],
   "source": [
    "results"
   ]
  },
  {
   "cell_type": "markdown",
   "metadata": {},
   "source": [
    "\n",
    "Our approach reaches an accuracy of ~78%. With a balanced binary classification problem, the accuracy reached by a purely random classifier \n",
    "would be 50%, but in our case it is closer to 19%, so our results seem pretty good, at least when compared to a random baseline:"
   ]
  },
  {
   "cell_type": "code",
   "execution_count": 26,
   "metadata": {},
   "outputs": [
    {
     "data": {
      "text/plain": [
       "0.19679430097951914"
      ]
     },
     "execution_count": 26,
     "metadata": {},
     "output_type": "execute_result"
    }
   ],
   "source": [
    "import copy\n",
    "\n",
    "test_labels_copy = copy.copy(test_labels)\n",
    "np.random.shuffle(test_labels_copy)\n",
    "float(np.sum(np.array(test_labels) == np.array(test_labels_copy))) / len(test_labels)"
   ]
  },
  {
   "cell_type": "markdown",
   "metadata": {},
   "source": [
    "## Generating predictions on new data\n",
    "\n",
    "We can verify that the `predict` method of our model instance returns a probability distribution over all 46 topics. Let's generate topic \n",
    "predictions for all of the test data:"
   ]
  },
  {
   "cell_type": "code",
   "execution_count": 27,
   "metadata": {
    "collapsed": true
   },
   "outputs": [],
   "source": [
    "predictions = model.predict(x_test)"
   ]
  },
  {
   "cell_type": "code",
   "execution_count": 28,
   "metadata": {},
   "outputs": [
    {
     "data": {
      "text/plain": [
       "2246"
      ]
     },
     "execution_count": 28,
     "metadata": {},
     "output_type": "execute_result"
    }
   ],
   "source": [
    "len(x_test)"
   ]
  },
  {
   "cell_type": "markdown",
   "metadata": {},
   "source": [
    "Each entry in `predictions` is a vector of length 46:"
   ]
  },
  {
   "cell_type": "code",
   "execution_count": 29,
   "metadata": {},
   "outputs": [
    {
     "data": {
      "text/plain": [
       "(46,)"
      ]
     },
     "execution_count": 29,
     "metadata": {},
     "output_type": "execute_result"
    }
   ],
   "source": [
    "predictions[0].shape"
   ]
  },
  {
   "cell_type": "markdown",
   "metadata": {},
   "source": [
    "The coefficients in this vector sum to 1:"
   ]
  },
  {
   "cell_type": "code",
   "execution_count": 30,
   "metadata": {},
   "outputs": [
    {
     "data": {
      "text/plain": [
       "0.99999994"
      ]
     },
     "execution_count": 30,
     "metadata": {},
     "output_type": "execute_result"
    }
   ],
   "source": [
    "np.sum(predictions[0])"
   ]
  },
  {
   "cell_type": "markdown",
   "metadata": {},
   "source": [
    "The largest entry is the predicted class, i.e. the class with the highest probability:"
   ]
  },
  {
   "cell_type": "markdown",
   "metadata": {},
   "source": [
    "## A different way to handle the labels and the loss\n",
    "\n",
    "We mentioned earlier that another way to encode the labels would be to cast them as an integer tensor, like such:"
   ]
  },
  {
   "cell_type": "code",
   "execution_count": 31,
   "metadata": {},
   "outputs": [
    {
     "data": {
      "text/plain": [
       "3"
      ]
     },
     "execution_count": 31,
     "metadata": {},
     "output_type": "execute_result"
    }
   ],
   "source": [
    "np.argmax(predictions[0])"
   ]
  },
  {
   "cell_type": "code",
   "execution_count": 32,
   "metadata": {
    "collapsed": true
   },
   "outputs": [],
   "source": [
    "y_train = np.array(train_labels)\n",
    "y_test = np.array(test_labels)"
   ]
  },
  {
   "cell_type": "markdown",
   "metadata": {},
   "source": [
    "\n",
    "The only thing it would change is the choice of the loss function. Our previous loss, `categorical_crossentropy`, expects the labels to \n",
    "follow a categorical encoding. With integer labels, we should use `sparse_categorical_crossentropy`:"
   ]
  },
  {
   "cell_type": "code",
   "execution_count": 33,
   "metadata": {
    "collapsed": true
   },
   "outputs": [],
   "source": [
    "model.compile(optimizer='rmsprop', loss='sparse_categorical_crossentropy', metrics=['acc'])"
   ]
  },
  {
   "cell_type": "markdown",
   "metadata": {},
   "source": [
    "This new loss function is still mathematically the same as `categorical_crossentropy`; it just has a different interface."
   ]
  },
  {
   "cell_type": "markdown",
   "metadata": {},
   "source": [
    "## On the importance of having sufficiently large intermediate layers\n",
    "\n",
    "\n",
    "We mentioned earlier that since our final outputs were 46-dimensional, we should avoid intermediate layers with much less than 46 hidden \n",
    "units. Now let's try to see what happens when we introduce an information bottleneck by having intermediate layers significantly less than \n",
    "46-dimensional, e.g. 4-dimensional."
   ]
  },
  {
   "cell_type": "code",
   "execution_count": 34,
   "metadata": {},
   "outputs": [
    {
     "name": "stdout",
     "output_type": "stream",
     "text": [
      "Train on 7982 samples, validate on 1000 samples\n",
      "Epoch 1/20\n",
      "7982/7982 [==============================] - 2s 267us/step - loss: 2.7073 - acc: 0.4411 - val_loss: 2.0155 - val_acc: 0.5930\n",
      "Epoch 2/20\n",
      "7982/7982 [==============================] - 2s 212us/step - loss: 1.7341 - acc: 0.6183 - val_loss: 1.6573 - val_acc: 0.6100\n",
      "Epoch 3/20\n",
      "7982/7982 [==============================] - 2s 210us/step - loss: 1.4678 - acc: 0.6359 - val_loss: 1.5688 - val_acc: 0.6080\n",
      "Epoch 4/20\n",
      "7982/7982 [==============================] - 2s 212us/step - loss: 1.3273 - acc: 0.6446 - val_loss: 1.4833 - val_acc: 0.6170\n",
      "Epoch 5/20\n",
      "7982/7982 [==============================] - 2s 212us/step - loss: 1.2168 - acc: 0.6498 - val_loss: 1.4540 - val_acc: 0.6250\n",
      "Epoch 6/20\n",
      "7982/7982 [==============================] - 2s 206us/step - loss: 1.1265 - acc: 0.6753 - val_loss: 1.4326 - val_acc: 0.6350\n",
      "Epoch 7/20\n",
      "7982/7982 [==============================] - 2s 210us/step - loss: 1.0522 - acc: 0.6944 - val_loss: 1.4520 - val_acc: 0.6420\n",
      "Epoch 8/20\n",
      "7982/7982 [==============================] - 2s 212us/step - loss: 0.9927 - acc: 0.7037 - val_loss: 1.4426 - val_acc: 0.6510\n",
      "Epoch 9/20\n",
      "7982/7982 [==============================] - 2s 206us/step - loss: 0.9425 - acc: 0.7167 - val_loss: 1.4766 - val_acc: 0.6500\n",
      "Epoch 10/20\n",
      "7982/7982 [==============================] - 2s 208us/step - loss: 0.8978 - acc: 0.7429 - val_loss: 1.5227 - val_acc: 0.6480\n",
      "Epoch 11/20\n",
      "7982/7982 [==============================] - 2s 207us/step - loss: 0.8602 - acc: 0.7547 - val_loss: 1.5150 - val_acc: 0.6670\n",
      "Epoch 12/20\n",
      "7982/7982 [==============================] - 2s 214us/step - loss: 0.8261 - acc: 0.7602 - val_loss: 1.5255 - val_acc: 0.6690\n",
      "Epoch 13/20\n",
      "7982/7982 [==============================] - 2s 208us/step - loss: 0.7962 - acc: 0.7677 - val_loss: 1.5737 - val_acc: 0.6660\n",
      "Epoch 14/20\n",
      "7982/7982 [==============================] - 2s 208us/step - loss: 0.7717 - acc: 0.7734 - val_loss: 1.6052 - val_acc: 0.6640\n",
      "Epoch 15/20\n",
      "7982/7982 [==============================] - 2s 210us/step - loss: 0.7449 - acc: 0.7814 - val_loss: 1.6424 - val_acc: 0.6690\n",
      "Epoch 16/20\n",
      "7982/7982 [==============================] - 2s 212us/step - loss: 0.7237 - acc: 0.7886 - val_loss: 1.7200 - val_acc: 0.6650\n",
      "Epoch 17/20\n",
      "7982/7982 [==============================] - 2s 206us/step - loss: 0.7052 - acc: 0.7964 - val_loss: 1.7392 - val_acc: 0.6640\n",
      "Epoch 18/20\n",
      "7982/7982 [==============================] - 2s 208us/step - loss: 0.6849 - acc: 0.8022 - val_loss: 1.7847 - val_acc: 0.6670\n",
      "Epoch 19/20\n",
      "7982/7982 [==============================] - 2s 210us/step - loss: 0.6680 - acc: 0.8086 - val_loss: 1.7986 - val_acc: 0.6700\n",
      "Epoch 20/20\n",
      "7982/7982 [==============================] - 2s 212us/step - loss: 0.6532 - acc: 0.8158 - val_loss: 1.8293 - val_acc: 0.6680\n"
     ]
    },
    {
     "data": {
      "text/plain": [
       "<keras.callbacks.History at 0x1b86c662e10>"
      ]
     },
     "execution_count": 34,
     "metadata": {},
     "output_type": "execute_result"
    }
   ],
   "source": [
    "model = models.Sequential()\n",
    "model.add(layers.Dense(64, activation='relu', input_shape=(10000,)))\n",
    "model.add(layers.Dense(4, activation='relu'))\n",
    "model.add(layers.Dense(46, activation='softmax'))\n",
    "\n",
    "model.compile(optimizer='rmsprop',\n",
    "              loss='categorical_crossentropy',\n",
    "              metrics=['accuracy'])\n",
    "model.fit(partial_x_train,\n",
    "          partial_y_train,\n",
    "          epochs=20,\n",
    "          batch_size=128,\n",
    "          validation_data=(x_val, y_val))"
   ]
  },
  {
   "cell_type": "markdown",
   "metadata": {},
   "source": [
    "\n",
    "Our network now seems to peak at ~71% test accuracy, a 8% absolute drop. This drop is mostly due to the fact that we are now trying to \n",
    "compress a lot of information (enough information to recover the separation hyperplanes of 46 classes) into an intermediate space that is \n",
    "too low-dimensional. The network is able to cram _most_ of the necessary information into these 8-dimensional representations, but not all \n",
    "of it."
   ]
  },
  {
   "cell_type": "markdown",
   "metadata": {},
   "source": [
    "## Further experiments\n",
    "\n",
    "* Try using larger or smaller layers: 32 units, 128 units...\n",
    "* We were using two hidden layers. Now try to use a single hidden layer, or three hidden layers."
   ]
  },
  {
   "cell_type": "markdown",
   "metadata": {},
   "source": [
    "## Wrapping up\n",
    "\n",
    "\n",
    "Here's what you should take away from this example:\n",
    "\n",
    "* If you are trying to classify data points between N classes, your network should end with a `Dense` layer of size N.\n",
    "* In a single-label, multi-class classification problem, your network should end with a `softmax` activation, so that it will output a \n",
    "probability distribution over the N output classes.\n",
    "* _Categorical crossentropy_ is almost always the loss function you should use for such problems. It minimizes the distance between the \n",
    "probability distributions output by the network, and the true distribution of the targets.\n",
    "* There are two ways to handle labels in multi-class classification:\n",
    "    ** Encoding the labels via \"categorical encoding\" (also known as \"one-hot encoding\") and using `categorical_crossentropy` as your loss \n",
    "function.\n",
    "    ** Encoding the labels as integers and using the `sparse_categorical_crossentropy` loss function.\n",
    "* If you need to classify data into a large number of categories, then you should avoid creating information bottlenecks in your network by having \n",
    "intermediate layers that are too small."
   ]
  },
  {
   "cell_type": "markdown",
   "metadata": {},
   "source": [
    "\n"
   ]
  },
  {
   "cell_type": "markdown",
   "metadata": {},
   "source": [
    "**Problem 2.** Run the above model with the optimal number of epochs. Determine the accuracy of the model using 4 fold validation. Model accuracy should be considered the average accuracy of all 4 training runs with one of 4 validation sets. Compare this accuracy the accuracy obtain in Problem 1.\n",
    "(35%)"
   ]
  },
  {
   "cell_type": "markdown",
   "metadata": {},
   "source": [
    "**Solution:**\n",
    "\n",
    "Using page https://machinelearningmastery.com/evaluate-performance-deep-learning-models-keras/ as a reference I evaluated the model with the 4-fold cross-validation approach using stratified folds to keep the proportions of class labels consistent across folds."
   ]
  },
  {
   "cell_type": "code",
   "execution_count": 40,
   "metadata": {
    "scrolled": true
   },
   "outputs": [
    {
     "name": "stdout",
     "output_type": "stream",
     "text": [
      "Fold # 1 :  6721 training samples,  2261 validation samples.\n",
      "Epoch 1/8\n",
      "6721/6721 [==============================] - 2s 277us/step - loss: 2.7722 - acc: 0.4642\n",
      "Epoch 2/8\n",
      "6721/6721 [==============================] - 1s 154us/step - loss: 1.5252 - acc: 0.6917\n",
      "Epoch 3/8\n",
      "6721/6721 [==============================] - 1s 157us/step - loss: 1.1177 - acc: 0.7676\n",
      "Epoch 4/8\n",
      "6721/6721 [==============================] - 1s 161us/step - loss: 0.8780 - acc: 0.8160\n",
      "Epoch 5/8\n",
      "6721/6721 [==============================] - 1s 163us/step - loss: 0.6998 - acc: 0.8536\n",
      "Epoch 6/8\n",
      "6721/6721 [==============================] - 1s 164us/step - loss: 0.5671 - acc: 0.8829\n",
      "Epoch 7/8\n",
      "6721/6721 [==============================] - 1s 157us/step - loss: 0.4548 - acc: 0.9088\n",
      "Epoch 8/8\n",
      "6721/6721 [==============================] - 1s 162us/step - loss: 0.3696 - acc: 0.9278\n",
      "2261/2261 [==============================] - 1s 266us/step\n",
      "Accuracy:  0.7823971694995218 \n",
      "\n",
      "Fold # 2 :  6732 training samples,  2250 validation samples.\n",
      "Epoch 1/8\n",
      "6732/6732 [==============================] - 2s 253us/step - loss: 2.8795 - acc: 0.3773\n",
      "Epoch 2/8\n",
      "6732/6732 [==============================] - 1s 168us/step - loss: 1.6010 - acc: 0.6716\n",
      "Epoch 3/8\n",
      "6732/6732 [==============================] - 1s 170us/step - loss: 1.1548 - acc: 0.7494\n",
      "Epoch 4/8\n",
      "6732/6732 [==============================] - 1s 166us/step - loss: 0.9124 - acc: 0.8078\n",
      "Epoch 5/8\n",
      "6732/6732 [==============================] - 1s 162us/step - loss: 0.7431 - acc: 0.8415\n",
      "Epoch 6/8\n",
      "6732/6732 [==============================] - 1s 162us/step - loss: 0.6028 - acc: 0.8755\n",
      "Epoch 7/8\n",
      "6732/6732 [==============================] - 1s 166us/step - loss: 0.4967 - acc: 0.8982\n",
      "Epoch 8/8\n",
      "6732/6732 [==============================] - ETA: 0s - loss: 0.4061 - acc: 0.916 - 1s 165us/step - loss: 0.4064 - acc: 0.9167\n",
      "2250/2250 [==============================] - 1s 286us/step\n",
      "Accuracy:  0.7857777778307596 \n",
      "\n",
      "Fold # 3 :  6741 training samples,  2241 validation samples.\n",
      "Epoch 1/8\n",
      "6741/6741 [==============================] - 2s 257us/step - loss: 2.9263 - acc: 0.4619\n",
      "Epoch 2/8\n",
      "6741/6741 [==============================] - 1s 168us/step - loss: 1.6559 - acc: 0.6785\n",
      "Epoch 3/8\n",
      "6741/6741 [==============================] - 1s 164us/step - loss: 1.1802 - acc: 0.7518\n",
      "Epoch 4/8\n",
      "6741/6741 [==============================] - 1s 168us/step - loss: 0.9219 - acc: 0.8011\n",
      "Epoch 5/8\n",
      "6741/6741 [==============================] - 1s 168us/step - loss: 0.7388 - acc: 0.8479\n",
      "Epoch 6/8\n",
      "6741/6741 [==============================] - 1s 168us/step - loss: 0.5976 - acc: 0.8818\n",
      "Epoch 7/8\n",
      "6741/6741 [==============================] - 1s 161us/step - loss: 0.4813 - acc: 0.9083\n",
      "Epoch 8/8\n",
      "6741/6741 [==============================] - 1s 163us/step - loss: 0.3991 - acc: 0.9232\n",
      "2241/2241 [==============================] - 1s 274us/step\n",
      "Accuracy:  0.7920571173583222 \n",
      "\n",
      "Fold # 4 :  6752 training samples,  2230 validation samples.\n",
      "Epoch 1/8\n",
      "6752/6752 [==============================] - 2s 299us/step - loss: 2.7324 - acc: 0.4842\n",
      "Epoch 2/8\n",
      "6752/6752 [==============================] - 1s 170us/step - loss: 1.5260 - acc: 0.6875\n",
      "Epoch 3/8\n",
      "6752/6752 [==============================] - 1s 164us/step - loss: 1.1149 - acc: 0.7614\n",
      "Epoch 4/8\n",
      "6752/6752 [==============================] - 1s 164us/step - loss: 0.8768 - acc: 0.8141\n",
      "Epoch 5/8\n",
      "6752/6752 [==============================] - 1s 167us/step - loss: 0.7013 - acc: 0.8529\n",
      "Epoch 6/8\n",
      "6752/6752 [==============================] - 1s 172us/step - loss: 0.5619 - acc: 0.8855\n",
      "Epoch 7/8\n",
      "6752/6752 [==============================] - 1s 166us/step - loss: 0.4515 - acc: 0.9097\n",
      "Epoch 8/8\n",
      "6752/6752 [==============================] - 1s 163us/step - loss: 0.3588 - acc: 0.9319\n",
      "2230/2230 [==============================] - 1s 286us/step\n",
      "Accuracy:  0.7923766818281781 \n",
      "\n",
      "Cross-validation accuracy:  0.7881521866291954\n",
      "0.79% (+/- 0.00%)\n"
     ]
    }
   ],
   "source": [
    "from sklearn.model_selection import StratifiedKFold\n",
    "\n",
    "seed = 7\n",
    "np.random.seed(seed)\n",
    "kfold = StratifiedKFold(n_splits=4, shuffle=True, random_state=seed)\n",
    "\n",
    "cvscores = []\n",
    "for i, (train, test) in enumerate(kfold.split(x_train, y_train)):\n",
    "    print(\"Fold #\", i+1,\": \", len(train), \"training samples, \", len(test), \"validation samples.\") \n",
    "    # create model\n",
    "    model = models.Sequential()\n",
    "    model.add(layers.Dense(64, activation='relu', input_shape=(10000,)))\n",
    "    model.add(layers.Dense(64, activation='relu'))\n",
    "    model.add(layers.Dense(46, activation='softmax'))\n",
    "    \n",
    "    # Compile model\n",
    "    model.compile(optimizer='rmsprop', loss='categorical_crossentropy', metrics=['accuracy'])\n",
    "    \n",
    "    # Fit the model\n",
    "    model.fit(x_train[train], one_hot_train_labels[train], epochs=8, batch_size=512)\n",
    "    \n",
    "    # evaluate the model\n",
    "    scores = model.evaluate(x_train[test], one_hot_train_labels[test])\n",
    "    print(\"Accuracy: \", scores[1], \"\\n\")\n",
    "    cvscores.append(scores[1])\n",
    "\n",
    "print(\"Cross-validation accuracy: \", np.mean(cvscores))\n",
    "print(\"%.2f%% (+/- %.2f%%)\" % (np.mean(cvscores), np.std(cvscores)))\n",
    "\n"
   ]
  },
  {
   "cell_type": "markdown",
   "metadata": {},
   "source": [
    "\n"
   ]
  },
  {
   "cell_type": "markdown",
   "metadata": {},
   "source": [
    "**Problem 3.** Consider the model in Problem 1. Examine the effect of L2 regularization on the optimal number of epochs. Perform experiments with the Lambda value of 0.001, 0,005 and 0.0005. Present the dependence of the optimal number of epochs on the varying regularization parameter.\n",
    "(30%)"
   ]
  },
  {
   "cell_type": "markdown",
   "metadata": {},
   "source": [
    "**Solution:**\n",
    "\n",
    "Using provided *4.4-overfitting-and-underfitting.ipynb* as a reference I train 3 more models with L2 regularization on weights of all layers with three different lambda parameters on 20 epochs."
   ]
  },
  {
   "cell_type": "code",
   "execution_count": 36,
   "metadata": {
    "scrolled": true
   },
   "outputs": [
    {
     "name": "stdout",
     "output_type": "stream",
     "text": [
      "Train on 7982 samples, validate on 1000 samples\n",
      "Epoch 1/20\n",
      "7982/7982 [==============================] - 2s 245us/step - loss: 2.8048 - acc: 0.5158 - val_loss: 1.9605 - val_acc: 0.6130\n",
      "Epoch 2/20\n",
      "7982/7982 [==============================] - 1s 167us/step - loss: 1.6676 - acc: 0.6862 - val_loss: 1.5315 - val_acc: 0.7040\n",
      "Epoch 3/20\n",
      "7982/7982 [==============================] - 1s 161us/step - loss: 1.3230 - acc: 0.7568 - val_loss: 1.3845 - val_acc: 0.7470\n",
      "Epoch 4/20\n",
      "7982/7982 [==============================] - 1s 165us/step - loss: 1.1336 - acc: 0.8031 - val_loss: 1.2886 - val_acc: 0.7710\n",
      "Epoch 5/20\n",
      "7982/7982 [==============================] - 1s 161us/step - loss: 1.0115 - acc: 0.8366 - val_loss: 1.2389 - val_acc: 0.7800\n",
      "Epoch 6/20\n",
      "7982/7982 [==============================] - 1s 163us/step - loss: 0.9102 - acc: 0.8613 - val_loss: 1.2230 - val_acc: 0.7960\n",
      "Epoch 7/20\n",
      "7982/7982 [==============================] - 1s 167us/step - loss: 0.8414 - acc: 0.8767 - val_loss: 1.1738 - val_acc: 0.8140\n",
      "Epoch 8/20\n",
      "7982/7982 [==============================] - 1s 163us/step - loss: 0.7772 - acc: 0.8910 - val_loss: 1.1681 - val_acc: 0.8040\n",
      "Epoch 9/20\n",
      "7982/7982 [==============================] - 1s 161us/step - loss: 0.7361 - acc: 0.9033 - val_loss: 1.1502 - val_acc: 0.8100\n",
      "Epoch 10/20\n",
      "7982/7982 [==============================] - 1s 163us/step - loss: 0.6914 - acc: 0.9168 - val_loss: 1.1520 - val_acc: 0.8130\n",
      "Epoch 11/20\n",
      "7982/7982 [==============================] - 1s 167us/step - loss: 0.6687 - acc: 0.9198 - val_loss: 1.1493 - val_acc: 0.8240\n",
      "Epoch 12/20\n",
      "7982/7982 [==============================] - 1s 167us/step - loss: 0.6489 - acc: 0.9238 - val_loss: 1.1350 - val_acc: 0.8220\n",
      "Epoch 13/20\n",
      "7982/7982 [==============================] - 1s 165us/step - loss: 0.6168 - acc: 0.9315 - val_loss: 1.1411 - val_acc: 0.8150\n",
      "Epoch 14/20\n",
      "7982/7982 [==============================] - 1s 163us/step - loss: 0.6017 - acc: 0.9371 - val_loss: 1.1248 - val_acc: 0.8180\n",
      "Epoch 15/20\n",
      "7982/7982 [==============================] - 1s 163us/step - loss: 0.5946 - acc: 0.9377 - val_loss: 1.1493 - val_acc: 0.8220\n",
      "Epoch 16/20\n",
      "7982/7982 [==============================] - 1s 165us/step - loss: 0.5761 - acc: 0.9425 - val_loss: 1.2256 - val_acc: 0.7950\n",
      "Epoch 17/20\n",
      "7982/7982 [==============================] - 1s 165us/step - loss: 0.5670 - acc: 0.9448 - val_loss: 1.1616 - val_acc: 0.8350\n",
      "Epoch 18/20\n",
      "7982/7982 [==============================] - 1s 165us/step - loss: 0.5672 - acc: 0.9437 - val_loss: 1.1404 - val_acc: 0.8290\n",
      "Epoch 19/20\n",
      "7982/7982 [==============================] - 1s 163us/step - loss: 0.5532 - acc: 0.9465 - val_loss: 1.2078 - val_acc: 0.8000\n",
      "Epoch 20/20\n",
      "7982/7982 [==============================] - 1s 165us/step - loss: 0.5498 - acc: 0.9463 - val_loss: 1.1568 - val_acc: 0.8060\n",
      "2246/2246 [==============================] - 0s 209us/step\n",
      "Train on 7982 samples, validate on 1000 samples\n",
      "Epoch 1/20\n",
      "7982/7982 [==============================] - 2s 244us/step - loss: 3.6099 - acc: 0.5139 - val_loss: 2.5791 - val_acc: 0.6070\n",
      "Epoch 2/20\n",
      "7982/7982 [==============================] - 1s 165us/step - loss: 2.2776 - acc: 0.6650 - val_loss: 2.0903 - val_acc: 0.6880\n",
      "Epoch 3/20\n",
      "7982/7982 [==============================] - 1s 163us/step - loss: 1.9391 - acc: 0.7184 - val_loss: 1.9155 - val_acc: 0.7040\n",
      "Epoch 4/20\n",
      "7982/7982 [==============================] - 1s 164us/step - loss: 1.7793 - acc: 0.7444 - val_loss: 1.8435 - val_acc: 0.7070\n",
      "Epoch 5/20\n",
      "7982/7982 [==============================] - 1s 168us/step - loss: 1.6804 - acc: 0.7640 - val_loss: 1.7616 - val_acc: 0.7350\n",
      "Epoch 6/20\n",
      "7982/7982 [==============================] - 1s 165us/step - loss: 1.6021 - acc: 0.7806 - val_loss: 1.7140 - val_acc: 0.7500\n",
      "Epoch 7/20\n",
      "7982/7982 [==============================] - 1s 163us/step - loss: 1.5495 - acc: 0.7904 - val_loss: 1.6855 - val_acc: 0.7660\n",
      "Epoch 8/20\n",
      "7982/7982 [==============================] - 1s 163us/step - loss: 1.5049 - acc: 0.7989 - val_loss: 1.6645 - val_acc: 0.7700\n",
      "Epoch 9/20\n",
      "7982/7982 [==============================] - 1s 165us/step - loss: 1.4693 - acc: 0.8058 - val_loss: 1.6393 - val_acc: 0.7590\n",
      "Epoch 10/20\n",
      "7982/7982 [==============================] - 1s 171us/step - loss: 1.4456 - acc: 0.8088 - val_loss: 1.6409 - val_acc: 0.7540\n",
      "Epoch 11/20\n",
      "7982/7982 [==============================] - 1s 164us/step - loss: 1.4237 - acc: 0.8161 - val_loss: 1.6115 - val_acc: 0.7660\n",
      "Epoch 12/20\n",
      "7982/7982 [==============================] - 1s 169us/step - loss: 1.3956 - acc: 0.8205 - val_loss: 1.6376 - val_acc: 0.7480\n",
      "Epoch 13/20\n",
      "7982/7982 [==============================] - 1s 165us/step - loss: 1.3847 - acc: 0.8193 - val_loss: 1.5982 - val_acc: 0.7770\n",
      "Epoch 14/20\n",
      "7982/7982 [==============================] - 1s 168us/step - loss: 1.3685 - acc: 0.8260 - val_loss: 1.6066 - val_acc: 0.7600\n",
      "Epoch 15/20\n",
      "7982/7982 [==============================] - 1s 168us/step - loss: 1.3561 - acc: 0.8264 - val_loss: 1.5927 - val_acc: 0.7700\n",
      "Epoch 16/20\n",
      "7982/7982 [==============================] - 1s 166us/step - loss: 1.3409 - acc: 0.8280 - val_loss: 1.5730 - val_acc: 0.7800\n",
      "Epoch 17/20\n",
      "7982/7982 [==============================] - 1s 164us/step - loss: 1.3382 - acc: 0.8305 - val_loss: 1.6138 - val_acc: 0.7710\n",
      "Epoch 18/20\n",
      "7982/7982 [==============================] - 1s 169us/step - loss: 1.3282 - acc: 0.8300 - val_loss: 1.6227 - val_acc: 0.7570\n",
      "Epoch 19/20\n",
      "7982/7982 [==============================] - 1s 169us/step - loss: 1.3142 - acc: 0.8309 - val_loss: 1.6323 - val_acc: 0.7640\n",
      "Epoch 20/20\n",
      "7982/7982 [==============================] - 1s 169us/step - loss: 1.3091 - acc: 0.8343 - val_loss: 1.5629 - val_acc: 0.7820\n",
      "2246/2246 [==============================] - 0s 202us/step\n",
      "Train on 7982 samples, validate on 1000 samples\n",
      "Epoch 1/20\n",
      "7982/7982 [==============================] - 2s 239us/step - loss: 2.6004 - acc: 0.5385 - val_loss: 1.7737 - val_acc: 0.6570\n",
      "Epoch 2/20\n",
      "7982/7982 [==============================] - 1s 163us/step - loss: 1.5072 - acc: 0.7061 - val_loss: 1.4086 - val_acc: 0.7110\n",
      "Epoch 3/20\n",
      "7982/7982 [==============================] - 1s 169us/step - loss: 1.1854 - acc: 0.7715 - val_loss: 1.2497 - val_acc: 0.7530\n",
      "Epoch 4/20\n",
      "7982/7982 [==============================] - 1s 163us/step - loss: 0.9942 - acc: 0.8150 - val_loss: 1.1689 - val_acc: 0.7860\n",
      "Epoch 5/20\n",
      "7982/7982 [==============================] - 1s 165us/step - loss: 0.8592 - acc: 0.8474 - val_loss: 1.1241 - val_acc: 0.7800\n",
      "Epoch 6/20\n",
      "7982/7982 [==============================] - 1s 164us/step - loss: 0.7562 - acc: 0.8690 - val_loss: 1.0996 - val_acc: 0.7960\n",
      "Epoch 7/20\n",
      "7982/7982 [==============================] - 1s 162us/step - loss: 0.6731 - acc: 0.8933 - val_loss: 1.0920 - val_acc: 0.8050\n",
      "Epoch 8/20\n",
      "7982/7982 [==============================] - 1s 168us/step - loss: 0.6101 - acc: 0.9089 - val_loss: 1.0664 - val_acc: 0.8150\n",
      "Epoch 9/20\n",
      "7982/7982 [==============================] - 1s 164us/step - loss: 0.5570 - acc: 0.9206 - val_loss: 1.0735 - val_acc: 0.8090\n",
      "Epoch 10/20\n",
      "7982/7982 [==============================] - 1s 168us/step - loss: 0.5182 - acc: 0.9293 - val_loss: 1.0920 - val_acc: 0.8060\n",
      "Epoch 11/20\n",
      "7982/7982 [==============================] - 1s 164us/step - loss: 0.4907 - acc: 0.9374 - val_loss: 1.0647 - val_acc: 0.8260\n",
      "Epoch 12/20\n",
      "7982/7982 [==============================] - 1s 168us/step - loss: 0.4619 - acc: 0.9417 - val_loss: 1.0817 - val_acc: 0.8200\n",
      "Epoch 13/20\n",
      "7982/7982 [==============================] - 1s 170us/step - loss: 0.4425 - acc: 0.9453 - val_loss: 1.0880 - val_acc: 0.8120\n",
      "Epoch 14/20\n",
      "7982/7982 [==============================] - 1s 167us/step - loss: 0.4295 - acc: 0.9484 - val_loss: 1.0694 - val_acc: 0.8200\n",
      "Epoch 15/20\n",
      "7982/7982 [==============================] - 1s 165us/step - loss: 0.4198 - acc: 0.9473 - val_loss: 1.0942 - val_acc: 0.8150\n",
      "Epoch 16/20\n",
      "7982/7982 [==============================] - 1s 165us/step - loss: 0.3992 - acc: 0.9524 - val_loss: 1.1353 - val_acc: 0.8050\n",
      "Epoch 17/20\n",
      "7982/7982 [==============================] - 1s 167us/step - loss: 0.3972 - acc: 0.9521 - val_loss: 1.0946 - val_acc: 0.8130\n",
      "Epoch 18/20\n",
      "7982/7982 [==============================] - 1s 171us/step - loss: 0.3875 - acc: 0.9524 - val_loss: 1.1591 - val_acc: 0.7930\n",
      "Epoch 19/20\n"
     ]
    },
    {
     "name": "stdout",
     "output_type": "stream",
     "text": [
      "7982/7982 [==============================] - 1s 165us/step - loss: 0.3818 - acc: 0.9520 - val_loss: 1.0878 - val_acc: 0.8180\n",
      "Epoch 20/20\n",
      "7982/7982 [==============================] - 1s 165us/step - loss: 0.3791 - acc: 0.9531 - val_loss: 1.0990 - val_acc: 0.8160\n",
      "2246/2246 [==============================] - 0s 205us/step\n"
     ]
    }
   ],
   "source": [
    "from keras import regularizers\n",
    "\n",
    "history_orig = history\n",
    "history_reg = []\n",
    "test_loss_and_accuracy = []\n",
    "lambdas = [0.001, 0.005, 0.0005]\n",
    "\n",
    "for llambda in lambdas:\n",
    "    model = models.Sequential()\n",
    "    model.add(layers.Dense(64, kernel_regularizer=regularizers.l2(llambda), activation='relu', input_shape=(10000,)))\n",
    "    model.add(layers.Dense(64, kernel_regularizer=regularizers.l2(llambda), activation='relu'))\n",
    "    model.add(layers.Dense(46, kernel_regularizer=regularizers.l2(llambda), activation='softmax'))\n",
    "\n",
    "    model.compile(optimizer='rmsprop', loss='categorical_crossentropy', metrics=['accuracy'])\n",
    "    \n",
    "    history = model.fit(partial_x_train,\n",
    "                        partial_y_train,\n",
    "                        epochs=20,\n",
    "                        batch_size=512,\n",
    "                        validation_data=(x_val, y_val))\n",
    "    history_reg.append(history)\n",
    "    \n",
    "    test_loss_and_accuracy.append(model.evaluate(x_test, one_hot_test_labels))"
   ]
  },
  {
   "cell_type": "markdown",
   "metadata": {},
   "source": [
    "Plot training and validation accuracy and loss history versus the epochs for the original model from **problem 1** without regularization and for the 3 new models."
   ]
  },
  {
   "cell_type": "code",
   "execution_count": 41,
   "metadata": {},
   "outputs": [
    {
     "data": {
      "image/png": "[encoded data removed]",
      "text/plain": [
       "<matplotlib.figure.Figure at 0x1b8375b2d68>"
      ]
     },
     "metadata": {},
     "output_type": "display_data"
    }
   ],
   "source": [
    "epochs = range(1,21)\n",
    "\n",
    "plt.plot(epochs, history_orig.history['loss'], 'bo', label='Training loss orig')\n",
    "plt.plot(epochs, history_orig.history['val_loss'], 'b', label='Validation loss orig')\n",
    "\n",
    "plt.plot(epochs, history_reg[0].history['loss'], 'ro', label='Training loss with reg, lambda=0.001')\n",
    "plt.plot(epochs, history_reg[0].history['val_loss'], 'r', label='Validation loss with reg, lambda=0.001')\n",
    "\n",
    "plt.plot(epochs, history_reg[1].history['loss'], 'go', label='Training loss with reg, lambda=0.005')\n",
    "plt.plot(epochs, history_reg[1].history['val_loss'], 'g', label='Validation loss with reg, lambda=0.005')\n",
    "\n",
    "plt.plot(epochs, history_reg[2].history['loss'], 'yo', label='Training loss with reg, lambda=0.0005')\n",
    "plt.plot(epochs, history_reg[2].history['val_loss'], 'y', label='Validation loss with reg, lambda=0.0005')\n",
    "\n",
    "plt.title('Training and validation loss')\n",
    "plt.xlabel('Epochs')\n",
    "plt.ylabel('Loss')\n",
    "plt.legend(loc='center left', bbox_to_anchor=(1, 0.5))\n",
    "\n",
    "plt.show()"
   ]
  },
  {
   "cell_type": "code",
   "execution_count": 42,
   "metadata": {
    "scrolled": true
   },
   "outputs": [
    {
     "data": {
      "image/png": "[encoded data removed]",
      "text/plain": [
       "<matplotlib.figure.Figure at 0x1b83e5a5518>"
      ]
     },
     "metadata": {},
     "output_type": "display_data"
    }
   ],
   "source": [
    "plt.clf()   # clear figure\n",
    "\n",
    "acc = history.history['acc']\n",
    "val_acc = history.history['val_acc']\n",
    "\n",
    "plt.plot(epochs, history_orig.history['acc'], 'bo', label='Training acc orig')\n",
    "plt.plot(epochs, history_orig.history['val_acc'], 'b', label='Validation acc orig')\n",
    "\n",
    "plt.plot(epochs, history_reg[0].history['acc'], 'ro', label='Training acc with reg, lambda=0.001')\n",
    "plt.plot(epochs, history_reg[0].history['val_acc'], 'r', label='Validation acc with reg, lambda=0.001')\n",
    "\n",
    "plt.plot(epochs, history_reg[1].history['acc'], 'go', label='Training acc with reg, lambda=0.005')\n",
    "plt.plot(epochs, history_reg[1].history['val_acc'], 'g', label='Validation acc with reg, lambda=0.005')\n",
    "\n",
    "plt.plot(epochs, history_reg[2].history['acc'], 'yo', label='Training loss with reg, lambda=0.0005')\n",
    "plt.plot(epochs, history_reg[2].history['val_acc'], 'y', label='Validation acc with reg, lambda=0.0005')\n",
    "\n",
    "plt.title('Training and validation accuracy')\n",
    "plt.xlabel('Epochs')\n",
    "plt.ylabel('Accuracy')\n",
    "plt.legend(loc='center left', bbox_to_anchor=(1, 0.5))\n",
    "\n",
    "plt.show()"
   ]
  },
  {
   "cell_type": "markdown",
   "metadata": {},
   "source": [
    "Display testing results of the 3 new models:"
   ]
  },
  {
   "cell_type": "code",
   "execution_count": 43,
   "metadata": {
    "scrolled": true
   },
   "outputs": [
    {
     "data": {
      "text/plain": [
       "[[1.251510465983716, 0.7809439002671416],\n",
       " [1.6329279030844874, 0.7609082813891362],\n",
       " [1.1812038120157677, 0.7849510240427426]]"
      ]
     },
     "execution_count": 43,
     "metadata": {},
     "output_type": "execute_result"
    }
   ],
   "source": [
    "test_loss_and_accuracy"
   ]
  },
  {
   "cell_type": "code",
   "execution_count": null,
   "metadata": {
    "collapsed": true
   },
   "outputs": [],
   "source": []
  }
 ],
 "metadata": {
  "kernelspec": {
   "display_name": "Python 3",
   "language": "python",
   "name": "python3"
  },
  "language_info": {
   "codemirror_mode": {
    "name": "ipython",
    "version": 3
   },
   "file_extension": ".py",
   "mimetype": "text/x-python",
   "name": "python",
   "nbconvert_exporter": "python",
   "pygments_lexer": "ipython3",
   "version": "3.6.4"
  }
 },
 "nbformat": 4,
 "nbformat_minor": 2
}
