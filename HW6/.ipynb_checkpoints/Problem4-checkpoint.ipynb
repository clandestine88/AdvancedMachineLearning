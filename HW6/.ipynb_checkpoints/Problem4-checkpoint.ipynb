{
 "cells": [
  {
   "cell_type": "markdown",
   "metadata": {},
   "source": [
    "# Problem 4"
   ]
  },
  {
   "cell_type": "markdown",
   "metadata": {},
   "source": [
    "### In Jupyter notebook 5.3-using-a-pretrained-convnet.ipynb we have training and validation accuracy for fine-tuned VGG16 network. We tuned the last 3 conv layers including: block5_conv1, block5_conv2 and block5_conv3. Examine whether fine-tuning layer block5_conv3 only and freezing layers: block5_conv1,and block5_conv2 will result in significant decrease in training accuracy. Report the number of trainable parameters when you are fine tuning last 3 convolutional layers vs. when you are training only the very last layer block5_conv3. Also, you do not have to rerun the example from the book. Run only the one with a single trainable layer and compare"
   ]
  },
  {
   "cell_type": "code",
   "execution_count": 1,
   "metadata": {},
   "outputs": [
    {
     "name": "stderr",
     "output_type": "stream",
     "text": [
      "/usr/local/lib64/python2.7/site-packages/h5py/__init__.py:36: FutureWarning: Conversion of the second argument of issubdtype from `float` to `np.floating` is deprecated. In future, it will be treated as `np.float64 == np.dtype(float).type`.\n",
      "  from ._conv import register_converters as _register_converters\n",
      "Using TensorFlow backend.\n"
     ]
    },
    {
     "data": {
      "text/plain": [
       "'2.1.3'"
      ]
     },
     "execution_count": 1,
     "metadata": {},
     "output_type": "execute_result"
    }
   ],
   "source": [
    "import keras\n",
    "keras.__version__\n",
    "\n",
    "\n",
    "\n"
   ]
  },
  {
   "cell_type": "code",
   "execution_count": 2,
   "metadata": {},
   "outputs": [],
   "source": [
    "import os, shutil\n",
    "import h5py\n",
    "from keras import optimizers\n",
    "import matplotlib.pyplot as plt\n",
    "%matplotlib inline\n"
   ]
  },
  {
   "cell_type": "code",
   "execution_count": 3,
   "metadata": {},
   "outputs": [],
   "source": [
    "original_dataset_dir = '/home/ec2-user/data/train'\n",
    "base_dir = '/home/ec2-user/data/cats_and_dogs_small'\n",
    "\n",
    "train_dir = os.path.join(base_dir, 'train')\n",
    "\n",
    "\n",
    "validation_dir = os.path.join(base_dir, 'validation')\n",
    "\n",
    "\n",
    "test_dir = os.path.join(base_dir, 'test')\n",
    "\n",
    "\n",
    "# Directory with our training cat pictures\n",
    "train_cats_dir = os.path.join(train_dir, 'cats')\n",
    "\n",
    "\n",
    "# Directory with our training dog pictures\n",
    "train_dogs_dir = os.path.join(train_dir, 'dogs')\n",
    "\n",
    "\n",
    "# Directory with our validation cat pictures\n",
    "validation_cats_dir = os.path.join(validation_dir, 'cats')\n",
    "\n",
    "\n",
    "# Directory with our validation dog pictures\n",
    "validation_dogs_dir = os.path.join(validation_dir, 'dogs')\n",
    "\n",
    "\n",
    "# Directory with our validation cat pictures\n",
    "test_cats_dir = os.path.join(test_dir, 'cats')\n",
    "\n",
    "\n",
    "# Directory with our validation dog pictures\n",
    "test_dogs_dir = os.path.join(test_dir, 'dogs')\n",
    "\n",
    "\n",
    "\n"
   ]
  },
  {
   "cell_type": "code",
   "execution_count": 4,
   "metadata": {},
   "outputs": [
    {
     "name": "stdout",
     "output_type": "stream",
     "text": [
      "Found 2000 images belonging to 2 classes.\n",
      "Found 1000 images belonging to 2 classes.\n"
     ]
    }
   ],
   "source": [
    "from keras.preprocessing.image import ImageDataGenerator\n",
    "\n",
    "# All images will be rescaled by 1./255\n",
    "train_datagen = ImageDataGenerator(rescale=1./255)\n",
    "test_datagen = ImageDataGenerator(rescale=1./255)\n",
    "\n",
    "train_generator = train_datagen.flow_from_directory(\n",
    "        # This is the target directory\n",
    "        train_dir,\n",
    "    \n",
    "        # All images will be resized to 150x150\n",
    "        target_size=(150, 150),\n",
    "        batch_size=20,\n",
    "    \n",
    "        # Since we use binary_crossentropy loss, we need binary labels\n",
    "        class_mode='binary')\n",
    "\n",
    "validation_generator = test_datagen.flow_from_directory(\n",
    "        validation_dir, target_size=(150, 150), batch_size=20, class_mode='binary')"
   ]
  },
  {
   "cell_type": "markdown",
   "metadata": {},
   "source": [
    "# Fine-Tuning"
   ]
  },
  {
   "cell_type": "markdown",
   "metadata": {},
   "source": [
    "## We will be using the convolutional base of the VGG16 network, trained on ImageNet, to extract interesting features from the given cat and dog images, and then training a cat vs. dog classifier on top of these features.\n",
    "\n",
    "## The VGG16 model, among others, comes pre-packaged with Keras. You can import it from the keras.applications module. "
   ]
  },
  {
   "cell_type": "markdown",
   "metadata": {},
   "source": [
    "# The steps for fine-tuning a network are as follow:\n",
    "    1) Add your custom network on top of an already trained base network.\n",
    "    2) Freeze the base network.\n",
    "    3) Train the part you added.\n",
    "    4) Unfreeze some layers in the base network.\n",
    "    5) Jointly train both these layers and the part you added."
   ]
  },
  {
   "cell_type": "markdown",
   "metadata": {},
   "source": [
    "### All these steps are done below"
   ]
  },
  {
   "cell_type": "code",
   "execution_count": 5,
   "metadata": {
    "scrolled": true
   },
   "outputs": [
    {
     "name": "stdout",
     "output_type": "stream",
     "text": [
      "conv_base\n"
     ]
    }
   ],
   "source": [
    "from keras.applications import VGG16\n",
    "conv_base = VGG16(weights='imagenet', include_top=False, input_shape=(150, 150, 3))\n",
    "print(\"conv_base\")"
   ]
  },
  {
   "cell_type": "code",
   "execution_count": 6,
   "metadata": {},
   "outputs": [
    {
     "name": "stdout",
     "output_type": "stream",
     "text": [
      "_________________________________________________________________\n",
      "Layer (type)                 Output Shape              Param #   \n",
      "=================================================================\n",
      "input_1 (InputLayer)         (None, 150, 150, 3)       0         \n",
      "_________________________________________________________________\n",
      "block1_conv1 (Conv2D)        (None, 150, 150, 64)      1792      \n",
      "_________________________________________________________________\n",
      "block1_conv2 (Conv2D)        (None, 150, 150, 64)      36928     \n",
      "_________________________________________________________________\n",
      "block1_pool (MaxPooling2D)   (None, 75, 75, 64)        0         \n",
      "_________________________________________________________________\n",
      "block2_conv1 (Conv2D)        (None, 75, 75, 128)       73856     \n",
      "_________________________________________________________________\n",
      "block2_conv2 (Conv2D)        (None, 75, 75, 128)       147584    \n",
      "_________________________________________________________________\n",
      "block2_pool (MaxPooling2D)   (None, 37, 37, 128)       0         \n",
      "_________________________________________________________________\n",
      "block3_conv1 (Conv2D)        (None, 37, 37, 256)       295168    \n",
      "_________________________________________________________________\n",
      "block3_conv2 (Conv2D)        (None, 37, 37, 256)       590080    \n",
      "_________________________________________________________________\n",
      "block3_conv3 (Conv2D)        (None, 37, 37, 256)       590080    \n",
      "_________________________________________________________________\n",
      "block3_pool (MaxPooling2D)   (None, 18, 18, 256)       0         \n",
      "_________________________________________________________________\n",
      "block4_conv1 (Conv2D)        (None, 18, 18, 512)       1180160   \n",
      "_________________________________________________________________\n",
      "block4_conv2 (Conv2D)        (None, 18, 18, 512)       2359808   \n",
      "_________________________________________________________________\n",
      "block4_conv3 (Conv2D)        (None, 18, 18, 512)       2359808   \n",
      "_________________________________________________________________\n",
      "block4_pool (MaxPooling2D)   (None, 9, 9, 512)         0         \n",
      "_________________________________________________________________\n",
      "block5_conv1 (Conv2D)        (None, 9, 9, 512)         2359808   \n",
      "_________________________________________________________________\n",
      "block5_conv2 (Conv2D)        (None, 9, 9, 512)         2359808   \n",
      "_________________________________________________________________\n",
      "block5_conv3 (Conv2D)        (None, 9, 9, 512)         2359808   \n",
      "_________________________________________________________________\n",
      "block5_pool (MaxPooling2D)   (None, 4, 4, 512)         0         \n",
      "=================================================================\n",
      "Total params: 14,714,688\n",
      "Trainable params: 14,714,688\n",
      "Non-trainable params: 0\n",
      "_________________________________________________________________\n",
      "conv_base.summary\n"
     ]
    }
   ],
   "source": [
    "conv_base.summary()\n",
    "print(\"conv_base.summary\")"
   ]
  },
  {
   "cell_type": "code",
   "execution_count": 7,
   "metadata": {},
   "outputs": [],
   "source": [
    "from keras import models\n",
    "from keras import layers\n",
    "\n",
    "model = models.Sequential()\n",
    "model.add(conv_base)\n",
    "model.add(layers.Flatten())\n",
    "model.add(layers.Dense(256, activation='relu'))\n",
    "model.add(layers.Dense(1, activation='sigmoid'))"
   ]
  },
  {
   "cell_type": "code",
   "execution_count": 8,
   "metadata": {},
   "outputs": [
    {
     "name": "stdout",
     "output_type": "stream",
     "text": [
      "_________________________________________________________________\n",
      "Layer (type)                 Output Shape              Param #   \n",
      "=================================================================\n",
      "vgg16 (Model)                (None, 4, 4, 512)         14714688  \n",
      "_________________________________________________________________\n",
      "flatten_1 (Flatten)          (None, 8192)              0         \n",
      "_________________________________________________________________\n",
      "dense_1 (Dense)              (None, 256)               2097408   \n",
      "_________________________________________________________________\n",
      "dense_2 (Dense)              (None, 1)                 257       \n",
      "=================================================================\n",
      "Total params: 16,812,353\n",
      "Trainable params: 16,812,353\n",
      "Non-trainable params: 0\n",
      "_________________________________________________________________\n"
     ]
    }
   ],
   "source": [
    "model.summary()"
   ]
  },
  {
   "cell_type": "code",
   "execution_count": null,
   "metadata": {},
   "outputs": [],
   "source": []
  },
  {
   "cell_type": "code",
   "execution_count": 9,
   "metadata": {},
   "outputs": [
    {
     "name": "stdout",
     "output_type": "stream",
     "text": [
      "done\n"
     ]
    }
   ],
   "source": [
    "conv_base.trainable = True\n",
    "\n",
    "set_trainable = False\n",
    "for layer in conv_base.layers:\n",
    "    if layer.name == 'block5_conv3':\n",
    "        set_trainable = True\n",
    "    if set_trainable:\n",
    "        layer.trainable = True\n",
    "    else:\n",
    "        layer.trainable = False\n",
    "        \n",
    "print(\"done\")        "
   ]
  },
  {
   "cell_type": "code",
   "execution_count": 11,
   "metadata": {},
   "outputs": [
    {
     "name": "stdout",
     "output_type": "stream",
     "text": [
      "Epoch 1/100\n",
      "100/100 [==============================] - 23s 225ms/step - loss: 0.3291 - acc: 0.8760 - val_loss: 0.3256 - val_acc: 0.8630\n",
      "Epoch 2/100\n",
      "100/100 [==============================] - 22s 222ms/step - loss: 0.2530 - acc: 0.9070 - val_loss: 0.2741 - val_acc: 0.8910\n",
      "Epoch 3/100\n",
      "100/100 [==============================] - 22s 223ms/step - loss: 0.2076 - acc: 0.9255 - val_loss: 0.2577 - val_acc: 0.8950\n",
      "Epoch 4/100\n",
      "100/100 [==============================] - 22s 224ms/step - loss: 0.1747 - acc: 0.9420 - val_loss: 0.2386 - val_acc: 0.9020\n",
      "Epoch 5/100\n",
      "100/100 [==============================] - 22s 225ms/step - loss: 0.1465 - acc: 0.9540 - val_loss: 0.2274 - val_acc: 0.9070\n",
      "Epoch 6/100\n",
      "100/100 [==============================] - 23s 225ms/step - loss: 0.1254 - acc: 0.9635 - val_loss: 0.2251 - val_acc: 0.9090\n",
      "Epoch 7/100\n",
      "100/100 [==============================] - 23s 226ms/step - loss: 0.1062 - acc: 0.9695 - val_loss: 0.2251 - val_acc: 0.9090\n",
      "Epoch 8/100\n",
      "100/100 [==============================] - 23s 226ms/step - loss: 0.0888 - acc: 0.9770 - val_loss: 0.2184 - val_acc: 0.9120\n",
      "Epoch 9/100\n",
      "100/100 [==============================] - 23s 226ms/step - loss: 0.0741 - acc: 0.9835 - val_loss: 0.2163 - val_acc: 0.9120\n",
      "Epoch 10/100\n",
      "100/100 [==============================] - 23s 226ms/step - loss: 0.0619 - acc: 0.9915 - val_loss: 0.2124 - val_acc: 0.9130\n",
      "Epoch 11/100\n",
      "100/100 [==============================] - 23s 226ms/step - loss: 0.0513 - acc: 0.9935 - val_loss: 0.2144 - val_acc: 0.9170\n",
      "Epoch 12/100\n",
      "100/100 [==============================] - 23s 226ms/step - loss: 0.0410 - acc: 0.9970 - val_loss: 0.2192 - val_acc: 0.9110\n",
      "Epoch 13/100\n",
      "100/100 [==============================] - 23s 226ms/step - loss: 0.0335 - acc: 0.9970 - val_loss: 0.2138 - val_acc: 0.9180\n",
      "Epoch 14/100\n",
      "100/100 [==============================] - 23s 226ms/step - loss: 0.0268 - acc: 0.9985 - val_loss: 0.2173 - val_acc: 0.9150\n",
      "Epoch 15/100\n",
      "100/100 [==============================] - 23s 226ms/step - loss: 0.0208 - acc: 0.9990 - val_loss: 0.2550 - val_acc: 0.9030\n",
      "Epoch 16/100\n",
      "100/100 [==============================] - 23s 226ms/step - loss: 0.0162 - acc: 1.0000 - val_loss: 0.2277 - val_acc: 0.9130\n",
      "Epoch 17/100\n",
      "100/100 [==============================] - 23s 226ms/step - loss: 0.0123 - acc: 1.0000 - val_loss: 0.2318 - val_acc: 0.9150\n",
      "Epoch 18/100\n",
      "100/100 [==============================] - 23s 226ms/step - loss: 0.0094 - acc: 1.0000 - val_loss: 0.2361 - val_acc: 0.9180\n",
      "Epoch 19/100\n",
      "100/100 [==============================] - 23s 226ms/step - loss: 0.0071 - acc: 1.0000 - val_loss: 0.2394 - val_acc: 0.9180\n",
      "Epoch 20/100\n",
      "100/100 [==============================] - 23s 226ms/step - loss: 0.0051 - acc: 1.0000 - val_loss: 0.2523 - val_acc: 0.9130\n",
      "Epoch 21/100\n",
      "100/100 [==============================] - 23s 227ms/step - loss: 0.0039 - acc: 1.0000 - val_loss: 0.2567 - val_acc: 0.9140\n",
      "Epoch 22/100\n",
      "100/100 [==============================] - 23s 226ms/step - loss: 0.0027 - acc: 1.0000 - val_loss: 0.2664 - val_acc: 0.9140\n",
      "Epoch 23/100\n",
      "100/100 [==============================] - 23s 226ms/step - loss: 0.0020 - acc: 1.0000 - val_loss: 0.2738 - val_acc: 0.9140\n",
      "Epoch 24/100\n",
      "100/100 [==============================] - 23s 226ms/step - loss: 0.0014 - acc: 1.0000 - val_loss: 0.2815 - val_acc: 0.9190\n",
      "Epoch 25/100\n",
      "100/100 [==============================] - 23s 226ms/step - loss: 0.0010 - acc: 1.0000 - val_loss: 0.2848 - val_acc: 0.9180\n",
      "Epoch 26/100\n",
      "100/100 [==============================] - 23s 226ms/step - loss: 6.3473e-04 - acc: 1.0000 - val_loss: 0.3044 - val_acc: 0.9130\n",
      "Epoch 27/100\n",
      "100/100 [==============================] - 23s 226ms/step - loss: 4.6070e-04 - acc: 1.0000 - val_loss: 0.3127 - val_acc: 0.9160\n",
      "Epoch 28/100\n",
      "100/100 [==============================] - 23s 226ms/step - loss: 2.9337e-04 - acc: 1.0000 - val_loss: 0.3483 - val_acc: 0.9090\n",
      "Epoch 29/100\n",
      "100/100 [==============================] - 23s 226ms/step - loss: 1.9524e-04 - acc: 1.0000 - val_loss: 0.3342 - val_acc: 0.9160\n",
      "Epoch 30/100\n",
      "100/100 [==============================] - 23s 227ms/step - loss: 1.3841e-04 - acc: 1.0000 - val_loss: 0.3580 - val_acc: 0.9100\n",
      "Epoch 31/100\n",
      "100/100 [==============================] - 23s 226ms/step - loss: 8.2624e-05 - acc: 1.0000 - val_loss: 0.3617 - val_acc: 0.9110\n",
      "Epoch 32/100\n",
      "100/100 [==============================] - 23s 226ms/step - loss: 5.5091e-05 - acc: 1.0000 - val_loss: 0.3609 - val_acc: 0.9150\n",
      "Epoch 33/100\n",
      "100/100 [==============================] - 23s 226ms/step - loss: 3.4884e-05 - acc: 1.0000 - val_loss: 0.3949 - val_acc: 0.9130\n",
      "Epoch 34/100\n",
      "100/100 [==============================] - 23s 226ms/step - loss: 2.1585e-05 - acc: 1.0000 - val_loss: 0.4116 - val_acc: 0.9100\n",
      "Epoch 35/100\n",
      "100/100 [==============================] - 23s 227ms/step - loss: 1.4332e-05 - acc: 1.0000 - val_loss: 0.3995 - val_acc: 0.9200\n",
      "Epoch 36/100\n",
      "100/100 [==============================] - 23s 226ms/step - loss: 9.3389e-06 - acc: 1.0000 - val_loss: 0.4147 - val_acc: 0.9120\n",
      "Epoch 37/100\n",
      "100/100 [==============================] - 23s 226ms/step - loss: 5.8209e-06 - acc: 1.0000 - val_loss: 0.4480 - val_acc: 0.9080\n",
      "Epoch 38/100\n",
      "100/100 [==============================] - 23s 226ms/step - loss: 3.9319e-06 - acc: 1.0000 - val_loss: 0.4380 - val_acc: 0.9110\n",
      "Epoch 39/100\n",
      "100/100 [==============================] - 23s 226ms/step - loss: 2.6871e-06 - acc: 1.0000 - val_loss: 0.4406 - val_acc: 0.9120\n",
      "Epoch 40/100\n",
      "100/100 [==============================] - 23s 226ms/step - loss: 1.8727e-06 - acc: 1.0000 - val_loss: 0.4651 - val_acc: 0.9120\n",
      "Epoch 41/100\n",
      "100/100 [==============================] - 23s 226ms/step - loss: 1.4082e-06 - acc: 1.0000 - val_loss: 0.4742 - val_acc: 0.9130\n",
      "Epoch 42/100\n",
      "100/100 [==============================] - 23s 227ms/step - loss: 1.0207e-06 - acc: 1.0000 - val_loss: 0.4690 - val_acc: 0.9120\n",
      "Epoch 43/100\n",
      "100/100 [==============================] - 23s 226ms/step - loss: 7.8488e-07 - acc: 1.0000 - val_loss: 0.4881 - val_acc: 0.9130\n",
      "Epoch 44/100\n",
      "100/100 [==============================] - 23s 226ms/step - loss: 6.1701e-07 - acc: 1.0000 - val_loss: 0.4841 - val_acc: 0.9110\n",
      "Epoch 45/100\n",
      "100/100 [==============================] - 23s 226ms/step - loss: 5.1252e-07 - acc: 1.0000 - val_loss: 0.4877 - val_acc: 0.9110\n",
      "Epoch 46/100\n",
      "100/100 [==============================] - 23s 226ms/step - loss: 4.3470e-07 - acc: 1.0000 - val_loss: 0.5063 - val_acc: 0.9130\n",
      "Epoch 47/100\n",
      "100/100 [==============================] - 23s 226ms/step - loss: 3.7060e-07 - acc: 1.0000 - val_loss: 0.5073 - val_acc: 0.9140\n",
      "Epoch 48/100\n",
      "100/100 [==============================] - 23s 226ms/step - loss: 3.2442e-07 - acc: 1.0000 - val_loss: 0.4953 - val_acc: 0.9110\n",
      "Epoch 49/100\n",
      "100/100 [==============================] - 23s 227ms/step - loss: 2.9262e-07 - acc: 1.0000 - val_loss: 0.5107 - val_acc: 0.9130\n",
      "Epoch 50/100\n",
      "100/100 [==============================] - 23s 227ms/step - loss: 2.5849e-07 - acc: 1.0000 - val_loss: 0.5126 - val_acc: 0.9130\n",
      "Epoch 51/100\n",
      "100/100 [==============================] - 23s 226ms/step - loss: 2.4007e-07 - acc: 1.0000 - val_loss: 0.5160 - val_acc: 0.9130\n",
      "Epoch 52/100\n",
      "100/100 [==============================] - 23s 226ms/step - loss: 2.2097e-07 - acc: 1.0000 - val_loss: 0.5128 - val_acc: 0.9110\n",
      "Epoch 53/100\n",
      "100/100 [==============================] - 23s 226ms/step - loss: 2.0691e-07 - acc: 1.0000 - val_loss: 0.5232 - val_acc: 0.9140\n",
      "Epoch 54/100\n",
      "100/100 [==============================] - 23s 226ms/step - loss: 1.9381e-07 - acc: 1.0000 - val_loss: 0.5276 - val_acc: 0.9140\n",
      "Epoch 55/100\n",
      "100/100 [==============================] - 23s 226ms/step - loss: 1.8380e-07 - acc: 1.0000 - val_loss: 0.5278 - val_acc: 0.9140\n",
      "Epoch 56/100\n",
      "100/100 [==============================] - 23s 226ms/step - loss: 1.7397e-07 - acc: 1.0000 - val_loss: 0.5300 - val_acc: 0.9140\n",
      "Epoch 57/100\n",
      "100/100 [==============================] - 23s 226ms/step - loss: 1.6806e-07 - acc: 1.0000 - val_loss: 0.5283 - val_acc: 0.9140\n",
      "Epoch 58/100\n",
      "100/100 [==============================] - 23s 227ms/step - loss: 1.6124e-07 - acc: 1.0000 - val_loss: 0.5270 - val_acc: 0.9120\n",
      "Epoch 59/100\n",
      "100/100 [==============================] - 23s 226ms/step - loss: 1.5509e-07 - acc: 1.0000 - val_loss: 0.5369 - val_acc: 0.9150\n"
     ]
    },
    {
     "name": "stdout",
     "output_type": "stream",
     "text": [
      "Epoch 60/100\n",
      "100/100 [==============================] - 23s 226ms/step - loss: 1.4974e-07 - acc: 1.0000 - val_loss: 0.5282 - val_acc: 0.9110\n",
      "Epoch 61/100\n",
      "100/100 [==============================] - 23s 226ms/step - loss: 1.4587e-07 - acc: 1.0000 - val_loss: 0.5334 - val_acc: 0.9140\n",
      "Epoch 62/100\n",
      "100/100 [==============================] - 23s 226ms/step - loss: 1.4210e-07 - acc: 1.0000 - val_loss: 0.5354 - val_acc: 0.9140\n",
      "Epoch 63/100\n",
      "100/100 [==============================] - 23s 226ms/step - loss: 1.3897e-07 - acc: 1.0000 - val_loss: 0.5358 - val_acc: 0.9130\n",
      "Epoch 64/100\n",
      "100/100 [==============================] - 23s 226ms/step - loss: 1.3574e-07 - acc: 1.0000 - val_loss: 0.5387 - val_acc: 0.9140\n",
      "Epoch 65/100\n",
      "100/100 [==============================] - 23s 226ms/step - loss: 1.3302e-07 - acc: 1.0000 - val_loss: 0.5367 - val_acc: 0.9120\n",
      "Epoch 66/100\n",
      "100/100 [==============================] - 23s 227ms/step - loss: 1.3077e-07 - acc: 1.0000 - val_loss: 0.5392 - val_acc: 0.9130\n",
      "Epoch 67/100\n",
      "100/100 [==============================] - 23s 226ms/step - loss: 1.2927e-07 - acc: 1.0000 - val_loss: 0.5381 - val_acc: 0.9120\n",
      "Epoch 68/100\n",
      "100/100 [==============================] - 23s 226ms/step - loss: 1.2718e-07 - acc: 1.0000 - val_loss: 0.5411 - val_acc: 0.9130\n",
      "Epoch 69/100\n",
      "100/100 [==============================] - 23s 226ms/step - loss: 1.2549e-07 - acc: 1.0000 - val_loss: 0.5458 - val_acc: 0.9150\n",
      "Epoch 70/100\n",
      "100/100 [==============================] - 23s 226ms/step - loss: 1.2347e-07 - acc: 1.0000 - val_loss: 0.5421 - val_acc: 0.9130\n",
      "Epoch 71/100\n",
      "100/100 [==============================] - 23s 226ms/step - loss: 1.2282e-07 - acc: 1.0000 - val_loss: 0.5391 - val_acc: 0.9110\n",
      "Epoch 72/100\n",
      "100/100 [==============================] - 23s 226ms/step - loss: 1.2186e-07 - acc: 1.0000 - val_loss: 0.5414 - val_acc: 0.9120\n",
      "Epoch 73/100\n",
      "100/100 [==============================] - 23s 226ms/step - loss: 1.2048e-07 - acc: 1.0000 - val_loss: 0.5413 - val_acc: 0.9110\n",
      "Epoch 74/100\n",
      "100/100 [==============================] - 23s 226ms/step - loss: 1.1953e-07 - acc: 1.0000 - val_loss: 0.5430 - val_acc: 0.9120\n",
      "Epoch 75/100\n",
      "100/100 [==============================] - 23s 226ms/step - loss: 1.1912e-07 - acc: 1.0000 - val_loss: 0.5491 - val_acc: 0.9140\n",
      "Epoch 76/100\n",
      "100/100 [==============================] - 23s 226ms/step - loss: 1.1785e-07 - acc: 1.0000 - val_loss: 0.5481 - val_acc: 0.9130\n",
      "Epoch 77/100\n",
      "100/100 [==============================] - 23s 226ms/step - loss: 1.1728e-07 - acc: 1.0000 - val_loss: 0.5468 - val_acc: 0.9120\n",
      "Epoch 78/100\n",
      "100/100 [==============================] - 23s 226ms/step - loss: 1.1675e-07 - acc: 1.0000 - val_loss: 0.5480 - val_acc: 0.9130\n",
      "Epoch 79/100\n",
      "100/100 [==============================] - 23s 226ms/step - loss: 1.1650e-07 - acc: 1.0000 - val_loss: 0.5486 - val_acc: 0.9130\n",
      "Epoch 80/100\n",
      "100/100 [==============================] - 23s 226ms/step - loss: 1.1592e-07 - acc: 1.0000 - val_loss: 0.5468 - val_acc: 0.9120\n",
      "Epoch 81/100\n",
      "100/100 [==============================] - 23s 226ms/step - loss: 1.1552e-07 - acc: 1.0000 - val_loss: 0.5485 - val_acc: 0.9120\n",
      "Epoch 82/100\n",
      "100/100 [==============================] - 23s 226ms/step - loss: 1.1470e-07 - acc: 1.0000 - val_loss: 0.5495 - val_acc: 0.9120\n",
      "Epoch 83/100\n",
      "100/100 [==============================] - 23s 226ms/step - loss: 1.1448e-07 - acc: 1.0000 - val_loss: 0.5522 - val_acc: 0.9130\n",
      "Epoch 84/100\n",
      "100/100 [==============================] - 23s 226ms/step - loss: 1.1383e-07 - acc: 1.0000 - val_loss: 0.5512 - val_acc: 0.9130\n",
      "Epoch 85/100\n",
      "100/100 [==============================] - 23s 226ms/step - loss: 1.1372e-07 - acc: 1.0000 - val_loss: 0.5508 - val_acc: 0.9120\n",
      "Epoch 86/100\n",
      "100/100 [==============================] - 23s 226ms/step - loss: 1.1322e-07 - acc: 1.0000 - val_loss: 0.5517 - val_acc: 0.9130\n",
      "Epoch 87/100\n",
      "100/100 [==============================] - 23s 226ms/step - loss: 1.1293e-07 - acc: 1.0000 - val_loss: 0.5533 - val_acc: 0.9130\n",
      "Epoch 88/100\n",
      "100/100 [==============================] - 23s 226ms/step - loss: 1.1265e-07 - acc: 1.0000 - val_loss: 0.5541 - val_acc: 0.9140\n",
      "Epoch 89/100\n",
      "100/100 [==============================] - 23s 226ms/step - loss: 1.1244e-07 - acc: 1.0000 - val_loss: 0.5525 - val_acc: 0.9130\n",
      "Epoch 90/100\n",
      "100/100 [==============================] - 23s 226ms/step - loss: 1.1223e-07 - acc: 1.0000 - val_loss: 0.5539 - val_acc: 0.9130\n",
      "Epoch 91/100\n",
      "100/100 [==============================] - 23s 226ms/step - loss: 1.1184e-07 - acc: 1.0000 - val_loss: 0.5515 - val_acc: 0.9120\n",
      "Epoch 92/100\n",
      "100/100 [==============================] - 23s 226ms/step - loss: 1.1186e-07 - acc: 1.0000 - val_loss: 0.5513 - val_acc: 0.9120\n",
      "Epoch 93/100\n",
      "100/100 [==============================] - 23s 226ms/step - loss: 1.1184e-07 - acc: 1.0000 - val_loss: 0.5536 - val_acc: 0.9130\n",
      "Epoch 94/100\n",
      "100/100 [==============================] - 23s 226ms/step - loss: 1.1137e-07 - acc: 1.0000 - val_loss: 0.5527 - val_acc: 0.9120\n",
      "Epoch 95/100\n",
      "100/100 [==============================] - 23s 226ms/step - loss: 1.1126e-07 - acc: 1.0000 - val_loss: 0.5527 - val_acc: 0.9120\n",
      "Epoch 96/100\n",
      "100/100 [==============================] - 23s 226ms/step - loss: 1.1119e-07 - acc: 1.0000 - val_loss: 0.5523 - val_acc: 0.9120\n",
      "Epoch 97/100\n",
      "100/100 [==============================] - 23s 226ms/step - loss: 1.1111e-07 - acc: 1.0000 - val_loss: 0.5520 - val_acc: 0.9110\n",
      "Epoch 98/100\n",
      "100/100 [==============================] - 23s 227ms/step - loss: 1.1098e-07 - acc: 1.0000 - val_loss: 0.5529 - val_acc: 0.9120\n",
      "Epoch 99/100\n",
      "100/100 [==============================] - 23s 226ms/step - loss: 1.1091e-07 - acc: 1.0000 - val_loss: 0.5539 - val_acc: 0.9130\n",
      "Epoch 100/100\n",
      "100/100 [==============================] - 23s 226ms/step - loss: 1.1077e-07 - acc: 1.0000 - val_loss: 0.5544 - val_acc: 0.9130\n"
     ]
    }
   ],
   "source": [
    "from keras import optimizers\n",
    "\n",
    "\n",
    "model.compile(loss='binary_crossentropy',\n",
    "              optimizer=optimizers.RMSprop(lr=1e-5),\n",
    "              metrics=['acc'])\n",
    "\n",
    "history = model.fit_generator(\n",
    "      train_generator,\n",
    "      steps_per_epoch=100, #100\n",
    "      epochs=100, #100\n",
    "      validation_data=validation_generator,\n",
    "      validation_steps=50) #50"
   ]
  },
  {
   "cell_type": "code",
   "execution_count": 13,
   "metadata": {},
   "outputs": [
    {
     "data": {
      "image/png": "[encoded data removed]",
      "text/plain": [
       "<matplotlib.figure.Figure at 0x7fd9070ba910>"
      ]
     },
     "metadata": {},
     "output_type": "display_data"
    },
    {
     "data": {
      "image/png": "[encoded data removed]",
      "text/plain": [
       "<matplotlib.figure.Figure at 0x7fd905fed1d0>"
      ]
     },
     "metadata": {},
     "output_type": "display_data"
    }
   ],
   "source": [
    "import matplotlib.pyplot as plt\n",
    "\n",
    "acc = history.history['acc']\n",
    "val_acc = history.history['val_acc']\n",
    "loss = history.history['loss']\n",
    "val_loss = history.history['val_loss']\n",
    "\n",
    "epochs = range(1, len(acc) + 1)\n",
    "\n",
    "plt.plot(epochs, acc, 'bo', label='Training acc')\n",
    "plt.plot(epochs, val_acc, 'b', label='Validation acc')\n",
    "plt.title('Training and validation accuracy')\n",
    "plt.legend()\n",
    "\n",
    "plt.figure()\n",
    "\n",
    "plt.plot(epochs, loss, 'bo', label='Training loss')\n",
    "plt.plot(epochs, val_loss, 'b', label='Validation loss')\n",
    "plt.title('Training and validation loss')\n",
    "plt.legend()\n",
    "\n",
    "plt.show()"
   ]
  },
  {
   "cell_type": "markdown",
   "metadata": {},
   "source": [
    "# the curves look noisy, let us make them more stable by defining the following function smooth_curve"
   ]
  },
  {
   "cell_type": "code",
   "execution_count": 14,
   "metadata": {},
   "outputs": [
    {
     "data": {
      "image/png": "[encoded data removed]",
      "text/plain": [
       "<matplotlib.figure.Figure at 0x7fd9070ba490>"
      ]
     },
     "metadata": {},
     "output_type": "display_data"
    },
    {
     "data": {
      "image/png": "[encoded data removed]",
      "text/plain": [
       "<matplotlib.figure.Figure at 0x7fd905e8c310>"
      ]
     },
     "metadata": {},
     "output_type": "display_data"
    }
   ],
   "source": [
    "def smooth_curve(points, factor=0.8):\n",
    "  smoothed_points = []\n",
    "  for point in points:\n",
    "    if smoothed_points:\n",
    "      previous = smoothed_points[-1]\n",
    "      smoothed_points.append(previous * factor + point * (1 - factor))\n",
    "    else:\n",
    "      smoothed_points.append(point)\n",
    "  return smoothed_points\n",
    "\n",
    "plt.plot(epochs,\n",
    "         smooth_curve(acc), 'bo', label='Smoothed training acc')\n",
    "plt.plot(epochs,\n",
    "         smooth_curve(val_acc), 'b', label='Smoothed validation acc')\n",
    "plt.title('Training and validation accuracy')\n",
    "plt.legend()\n",
    "\n",
    "plt.figure()\n",
    "\n",
    "plt.plot(epochs,\n",
    "         smooth_curve(loss), 'bo', label='Smoothed training loss')\n",
    "plt.plot(epochs,\n",
    "         smooth_curve(val_loss), 'b', label='Smoothed validation loss')\n",
    "plt.title('Training and validation loss')\n",
    "plt.legend()\n",
    "\n",
    "plt.show()\n"
   ]
  },
  {
   "cell_type": "markdown",
   "metadata": {},
   "source": [
    "## From the above curves, it is evident that by fine tuning the last layer of block5 ie block5_conv3 and freezing the other two above layers of block5, we get less validation accuracy which is in the range of 90% - 92% in comparison to when all the three layers of block5 has been fine tuned. \n",
    "\n",
    "## In the latter case, the validation accuracy got as given in the textbook is in the range 96% - 97.5 %"
   ]
  },
  {
   "cell_type": "code",
   "execution_count": null,
   "metadata": {},
   "outputs": [],
   "source": []
  }
 ],
 "metadata": {
  "kernelspec": {
   "display_name": "Python 3",
   "language": "python",
   "name": "python3"
  },
  "language_info": {
   "codemirror_mode": {
    "name": "ipython",
    "version": 3
   },
   "file_extension": ".py",
   "mimetype": "text/x-python",
   "name": "python",
   "nbconvert_exporter": "python",
   "pygments_lexer": "ipython3",
   "version": "3.6.4"
  }
 },
 "nbformat": 4,
 "nbformat_minor": 2
}
